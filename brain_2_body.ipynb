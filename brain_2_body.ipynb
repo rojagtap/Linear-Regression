{
  "nbformat": 4,
  "nbformat_minor": 0,
  "metadata": {
    "colab": {
      "name": "brain_2_body.ipynb",
      "version": "0.3.2",
      "provenance": [],
      "toc_visible": true
    },
    "kernelspec": {
      "name": "python3",
      "display_name": "Python 3"
    },
    "accelerator": "TPU"
  },
  "cells": [
    {
      "metadata": {
        "id": "T7akogQui1YA",
        "colab_type": "code",
        "outputId": "04b8098c-b29b-48ff-fdf8-7f85b7ac0d9a",
        "colab": {
          "base_uri": "https://localhost:8080/",
          "height": 34
        }
      },
      "cell_type": "code",
      "source": [
        "from google.colab import drive\n",
        "drive.mount('/content/gdrive')"
      ],
      "execution_count": 0,
      "outputs": [
        {
          "output_type": "stream",
          "text": [
            "Drive already mounted at /content/gdrive; to attempt to forcibly remount, call drive.mount(\"/content/gdrive\", force_remount=True).\n"
          ],
          "name": "stdout"
        }
      ]
    },
    {
      "metadata": {
        "id": "Ck-D4ar0jBNl",
        "colab_type": "code",
        "colab": {}
      },
      "cell_type": "code",
      "source": [
        "import pandas as pd"
      ],
      "execution_count": 0,
      "outputs": []
    },
    {
      "metadata": {
        "id": "3l3j22lNk3uO",
        "colab_type": "code",
        "colab": {}
      },
      "cell_type": "code",
      "source": [
        "dataframe = pd.read_fwf('/content/gdrive/My Drive/data/brain_2_body/brain_body.txt')"
      ],
      "execution_count": 0,
      "outputs": []
    },
    {
      "metadata": {
        "id": "Ms82xnMElExJ",
        "colab_type": "code",
        "outputId": "8a4c167a-bb64-4bc9-e136-f9aa13e0c373",
        "colab": {
          "base_uri": "https://localhost:8080/",
          "height": 195
        }
      },
      "cell_type": "code",
      "source": [
        "dataframe.head()"
      ],
      "execution_count": 0,
      "outputs": [
        {
          "output_type": "execute_result",
          "data": {
            "text/html": [
              "<div>\n",
              "<style scoped>\n",
              "    .dataframe tbody tr th:only-of-type {\n",
              "        vertical-align: middle;\n",
              "    }\n",
              "\n",
              "    .dataframe tbody tr th {\n",
              "        vertical-align: top;\n",
              "    }\n",
              "\n",
              "    .dataframe thead th {\n",
              "        text-align: right;\n",
              "    }\n",
              "</style>\n",
              "<table border=\"1\" class=\"dataframe\">\n",
              "  <thead>\n",
              "    <tr style=\"text-align: right;\">\n",
              "      <th></th>\n",
              "      <th>Brain</th>\n",
              "      <th>Body</th>\n",
              "    </tr>\n",
              "  </thead>\n",
              "  <tbody>\n",
              "    <tr>\n",
              "      <th>0</th>\n",
              "      <td>3.385</td>\n",
              "      <td>44.5</td>\n",
              "    </tr>\n",
              "    <tr>\n",
              "      <th>1</th>\n",
              "      <td>0.480</td>\n",
              "      <td>15.5</td>\n",
              "    </tr>\n",
              "    <tr>\n",
              "      <th>2</th>\n",
              "      <td>1.350</td>\n",
              "      <td>8.1</td>\n",
              "    </tr>\n",
              "    <tr>\n",
              "      <th>3</th>\n",
              "      <td>465.000</td>\n",
              "      <td>423.0</td>\n",
              "    </tr>\n",
              "    <tr>\n",
              "      <th>4</th>\n",
              "      <td>36.330</td>\n",
              "      <td>119.5</td>\n",
              "    </tr>\n",
              "  </tbody>\n",
              "</table>\n",
              "</div>"
            ],
            "text/plain": [
              "     Brain   Body\n",
              "0    3.385   44.5\n",
              "1    0.480   15.5\n",
              "2    1.350    8.1\n",
              "3  465.000  423.0\n",
              "4   36.330  119.5"
            ]
          },
          "metadata": {
            "tags": []
          },
          "execution_count": 4
        }
      ]
    },
    {
      "metadata": {
        "id": "qjzIpFYclHFt",
        "colab_type": "code",
        "colab": {}
      },
      "cell_type": "code",
      "source": [
        "from sklearn import linear_model, ensemble\n"
      ],
      "execution_count": 0,
      "outputs": []
    },
    {
      "metadata": {
        "id": "w4zmwbMqlQQo",
        "colab_type": "code",
        "colab": {}
      },
      "cell_type": "code",
      "source": [
        "body_reg = linear_model.LinearRegression()"
      ],
      "execution_count": 0,
      "outputs": []
    },
    {
      "metadata": {
        "id": "ydH3K3TAlZmQ",
        "colab_type": "code",
        "colab": {}
      },
      "cell_type": "code",
      "source": [
        "import matplotlib.pyplot as plt"
      ],
      "execution_count": 0,
      "outputs": []
    },
    {
      "metadata": {
        "id": "1G1__Z13ljGH",
        "colab_type": "code",
        "colab": {}
      },
      "cell_type": "code",
      "source": [
        "x_values = dataframe[['Brain']]\n",
        "y_values = dataframe[['Body']]"
      ],
      "execution_count": 0,
      "outputs": []
    },
    {
      "metadata": {
        "id": "DPYP3bTyluaA",
        "colab_type": "code",
        "outputId": "f4d3e02b-f566-4be4-cef3-3934218eca7b",
        "colab": {
          "base_uri": "https://localhost:8080/",
          "height": 50
        }
      },
      "cell_type": "code",
      "source": [
        "body_reg.fit(x_values, y_values)"
      ],
      "execution_count": 0,
      "outputs": [
        {
          "output_type": "execute_result",
          "data": {
            "text/plain": [
              "LinearRegression(copy_X=True, fit_intercept=True, n_jobs=None,\n",
              "         normalize=False)"
            ]
          },
          "metadata": {
            "tags": []
          },
          "execution_count": 9
        }
      ]
    },
    {
      "metadata": {
        "id": "p4B_BndHl8oJ",
        "colab_type": "code",
        "outputId": "7fdd817a-1372-4446-b46b-9a499e1ae137",
        "colab": {
          "base_uri": "https://localhost:8080/",
          "height": 347
        }
      },
      "cell_type": "code",
      "source": [
        "plt.scatter(x_values, y_values)\n",
        "plt.plot(x_values, body_reg.predict(x_values))\n",
        "plt.show()"
      ],
      "execution_count": 0,
      "outputs": [
        {
          "output_type": "display_data",
          "data": {
            "image/png": "[encoded data removed]",
            "text/plain": [
              "<Figure size 576x396 with 1 Axes>"
            ]
          },
          "metadata": {
            "tags": []
          }
        }
      ]
    },
    {
      "metadata": {
        "id": "Y4V-fJyCMwsb",
        "colab_type": "text"
      },
      "cell_type": "markdown",
      "source": [
        "##Predicting for a single value"
      ]
    },
    {
      "metadata": {
        "id": "2PjTU1m8MvIv",
        "colab_type": "code",
        "outputId": "b53ebe29-ed60-4f2b-8d9f-39e1329e3595",
        "colab": {
          "base_uri": "https://localhost:8080/",
          "height": 34
        }
      },
      "cell_type": "code",
      "source": [
        "import numpy as np\n",
        "\n",
        "a = np.array(36.33)\n",
        "print(body_reg.predict(a.reshape(1, -1)))"
      ],
      "execution_count": 0,
      "outputs": [
        {
          "output_type": "stream",
          "text": [
            "[[126.11720924]]\n"
          ],
          "name": "stdout"
        }
      ]
    },
    {
      "metadata": {
        "id": "0NMVzbtSCO8F",
        "colab_type": "text"
      },
      "cell_type": "markdown",
      "source": [
        "##Challenge"
      ]
    },
    {
      "metadata": {
        "id": "FvQ0ewCvpNRD",
        "colab_type": "code",
        "colab": {}
      },
      "cell_type": "code",
      "source": [
        "dataframe_challenge = pd.read_csv('/content/gdrive/My Drive/data/brain_2_body/challenge_dataset.txt')"
      ],
      "execution_count": 0,
      "outputs": []
    },
    {
      "metadata": {
        "id": "CVIO0baYpaWS",
        "colab_type": "code",
        "outputId": "656df328-396c-441f-b31c-1707ce75efd2",
        "colab": {
          "base_uri": "https://localhost:8080/",
          "height": 1058
        }
      },
      "cell_type": "code",
      "source": [
        "x_values_challenge= dataframe_challenge.iloc[:,0]\n",
        "y_values_challenge = dataframe_challenge.iloc[:,1]\n",
        "y_values_challenge"
      ],
      "execution_count": 0,
      "outputs": [
        {
          "output_type": "execute_result",
          "data": {
            "text/plain": [
              "0      9.13020\n",
              "1     13.66200\n",
              "2     11.85400\n",
              "3      6.82330\n",
              "4     11.88600\n",
              "5      4.34830\n",
              "6     12.00000\n",
              "7      6.59870\n",
              "8      3.81660\n",
              "9      3.25220\n",
              "10    15.50500\n",
              "11     3.15510\n",
              "12     7.22580\n",
              "13     0.71618\n",
              "14     3.51290\n",
              "15     5.30480\n",
              "16     0.56077\n",
              "17     3.65180\n",
              "18     5.38930\n",
              "19     3.13860\n",
              "20    21.76700\n",
              "21     4.26300\n",
              "22     5.18750\n",
              "23     3.08250\n",
              "24    22.63800\n",
              "25    13.50100\n",
              "26     7.04670\n",
              "27    14.69200\n",
              "28    24.14700\n",
              "29    -1.22000\n",
              "        ...   \n",
              "66     7.77540\n",
              "67     1.01730\n",
              "68    20.99200\n",
              "69     6.67990\n",
              "70     4.02590\n",
              "71     1.27840\n",
              "72     3.34110\n",
              "73    -2.68070\n",
              "74     0.29678\n",
              "75     3.88450\n",
              "76     5.70140\n",
              "77     6.75260\n",
              "78     2.05760\n",
              "79     0.47953\n",
              "80     0.20421\n",
              "81     0.67861\n",
              "82     7.54350\n",
              "83     5.34360\n",
              "84     4.24150\n",
              "85     6.79810\n",
              "86     0.92695\n",
              "87     0.15200\n",
              "88     2.82140\n",
              "89     1.84510\n",
              "90     4.29590\n",
              "91     7.20290\n",
              "92     1.98690\n",
              "93     0.14454\n",
              "94     9.05510\n",
              "95     0.61705\n",
              "Name: 17.592, Length: 96, dtype: float64"
            ]
          },
          "metadata": {
            "tags": []
          },
          "execution_count": 13
        }
      ]
    },
    {
      "metadata": {
        "id": "HvLxK5HEpm0F",
        "colab_type": "code",
        "colab": {}
      },
      "cell_type": "code",
      "source": [
        "body_reg_challenge = linear_model.LinearRegression()"
      ],
      "execution_count": 0,
      "outputs": []
    },
    {
      "metadata": {
        "id": "T1n65mvjpv7j",
        "colab_type": "code",
        "outputId": "4b0412a3-16ca-4dbc-a8e0-5ae5da25524f",
        "colab": {
          "base_uri": "https://localhost:8080/",
          "height": 50
        }
      },
      "cell_type": "code",
      "source": [
        "x_values_challenge = x_values_challenge.reshape(-1, 1)\n",
        "y_values_challenge = y_values_challenge.reshape(-1, 1)\n",
        "body_reg_challenge.fit(x_values_challenge, y_values_challenge)\n"
      ],
      "execution_count": 0,
      "outputs": [
        {
          "output_type": "execute_result",
          "data": {
            "text/plain": [
              "LinearRegression(copy_X=True, fit_intercept=True, n_jobs=None,\n",
              "         normalize=False)"
            ]
          },
          "metadata": {
            "tags": []
          },
          "execution_count": 21
        }
      ]
    },
    {
      "metadata": {
        "id": "4SOfGXkzp1jO",
        "colab_type": "code",
        "outputId": "e98bae5d-bfb7-47dd-81bb-2e6e2957e166",
        "colab": {
          "base_uri": "https://localhost:8080/",
          "height": 347
        }
      },
      "cell_type": "code",
      "source": [
        "plt.scatter(x_values_challenge, y_values_challenge)\n",
        "plt.plot(x_values_challenge, body_reg_challenge.predict(x_values_challenge))\n",
        "plt.show()"
      ],
      "execution_count": 0,
      "outputs": [
        {
          "output_type": "display_data",
          "data": {
            "image/png": "[encoded data removed]",
            "text/plain": [
              "<Figure size 576x396 with 1 Axes>"
            ]
          },
          "metadata": {
            "tags": []
          }
        }
      ]
    },
    {
      "metadata": {
        "id": "vr40FNgmMYsJ",
        "colab_type": "text"
      },
      "cell_type": "markdown",
      "source": [
        "##Predicting for one test value"
      ]
    },
    {
      "metadata": {
        "id": "DUa_USJTqDhL",
        "colab_type": "code",
        "outputId": "096ec845-da68-419e-cfb6-df2643b4c591",
        "colab": {
          "base_uri": "https://localhost:8080/",
          "height": 34
        }
      },
      "cell_type": "code",
      "source": [
        "a = np.array(465)\n",
        "print(body_reg_challenge.predict(a.reshape(1, -1)))"
      ],
      "execution_count": 0,
      "outputs": [
        {
          "output_type": "stream",
          "text": [
            "[[560.08796906]]\n"
          ],
          "name": "stdout"
        }
      ]
    },
    {
      "metadata": {
        "id": "k5_rVAOTLa3a",
        "colab_type": "text"
      },
      "cell_type": "markdown",
      "source": [
        ""
      ]
    },
    {
      "metadata": {
        "id": "TRCSo17TKfvI",
        "colab_type": "text"
      },
      "cell_type": "markdown",
      "source": [
        "<ul>\n",
        "  <li>To predict for a single value use np array and reshape to (1, -1)</li>\n",
        "  <li>Note that on the graph y axis is the **prediction** and x are the values for prediction</li>\n",
        "</ul>  "
      ]
    },
    {
      "metadata": {
        "id": "fgxZx1OfNShM",
        "colab_type": "code",
        "outputId": "c366c58e-6019-4882-8626-3bf6d62ebc54",
        "colab": {
          "base_uri": "https://localhost:8080/",
          "height": 34
        }
      },
      "cell_type": "code",
      "source": [
        "body_reg_challenge.score(x_values_challenge, y_values_challenge)"
      ],
      "execution_count": 0,
      "outputs": [
        {
          "output_type": "execute_result",
          "data": {
            "text/plain": [
              "0.7606583419339847"
            ]
          },
          "metadata": {
            "tags": []
          },
          "execution_count": 24
        }
      ]
    },
    {
      "metadata": {
        "colab_type": "text",
        "id": "DWHZvXrfWvSB"
      },
      "cell_type": "markdown",
      "source": [
        ""
      ]
    },
    {
      "metadata": {
        "id": "f-h_qVO4Nmxs",
        "colab_type": "code",
        "outputId": "8d660b4f-a7c8-46f0-fce9-3886d23f0a02",
        "colab": {
          "base_uri": "https://localhost:8080/",
          "height": 34
        }
      },
      "cell_type": "code",
      "source": [
        "body_reg.score(x_values, y_values)"
      ],
      "execution_count": 0,
      "outputs": [
        {
          "output_type": "execute_result",
          "data": {
            "text/plain": [
              "0.8726620843043331"
            ]
          },
          "metadata": {
            "tags": []
          },
          "execution_count": 25
        }
      ]
    },
    {
      "metadata": {
        "id": "YqOSPIUwNwxE",
        "colab_type": "code",
        "colab": {}
      },
      "cell_type": "code",
      "source": [
        ""
      ],
      "execution_count": 0,
      "outputs": []
    }
  ]
}